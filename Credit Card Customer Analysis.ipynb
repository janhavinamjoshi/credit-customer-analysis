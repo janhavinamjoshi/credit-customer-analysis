{
 "cells": [
  {
   "cell_type": "markdown",
   "id": "76b3654a",
   "metadata": {},
   "source": [
    "# Savings & Loan Customer Relationship analysis\n",
    "\n",
    "#### This notebook contains analysis for fictional Savings & Loan Bank. With the help of data received from the company, we have performed analysis that would give insight into company's customers. Further steps can be taken to improve on necessary areas identified by the analysis."
   ]
  },
  {
   "cell_type": "code",
   "execution_count": 1,
   "id": "f05b6d86",
   "metadata": {},
   "outputs": [],
   "source": [
    "#import required python libraries and data required for analysis\n",
    "\n",
    "import numpy as np\n",
    "import matplotlib.pyplot as plt\n",
    "\n",
    "spreadsheet = np.loadtxt(r'/Users/janhavi/Desktop/Assignment/Python/HW3/HW3-credit-card-consumers.csv', skiprows=1, delimiter=',', dtype=str)"
   ]
  },
  {
   "cell_type": "code",
   "execution_count": 2,
   "id": "cdff00f7",
   "metadata": {},
   "outputs": [
    {
     "name": "stdout",
     "output_type": "stream",
     "text": [
      "Variables relating to credit limit and total revolving balance: \n",
      " [['12691' '777']\n",
      " ['8256' '864']\n",
      " ['3418' '0']\n",
      " ['3313' '2517']\n",
      " ['4716' '0']]\n"
     ]
    }
   ],
   "source": [
    "#loads first 5 values for 'credit limit' & 'total revolving balance' variable\n",
    "credit_info = spreadsheet[:5, 13:15]  \n",
    "print('Variables relating to credit limit and total revolving balance: \\n', credit_info)"
   ]
  },
  {
   "cell_type": "markdown",
   "id": "cda0cec1",
   "metadata": {},
   "source": [
    "## Next cell helps us find the total number of customers "
   ]
  },
  {
   "cell_type": "code",
   "execution_count": 3,
   "id": "21dde828",
   "metadata": {},
   "outputs": [
    {
     "name": "stdout",
     "output_type": "stream",
     "text": [
      "(10127, 20)\n"
     ]
    }
   ],
   "source": [
    "#helps us find the shape of the dataframe\n",
    "print(spreadsheet.shape)"
   ]
  },
  {
   "cell_type": "markdown",
   "id": "2569a3d9",
   "metadata": {},
   "source": [
    "From the count of number of customers, we infer that total customers = 10127"
   ]
  },
  {
   "cell_type": "markdown",
   "id": "feecf4eb",
   "metadata": {},
   "source": [
    "## Next cell helps us find the range of customer credit limit offered by the bank "
   ]
  },
  {
   "cell_type": "code",
   "execution_count": 4,
   "id": "07435511",
   "metadata": {},
   "outputs": [
    {
     "name": "stdout",
     "output_type": "stream",
     "text": [
      "Customer credit limit ranges from $ 1438.3 to $ 34516.0\n"
     ]
    }
   ],
   "source": [
    "#make a list of customer's credit limit\n",
    "credit_limit = spreadsheet[:, 13]\n",
    "#convert NumPy array of string values to float values\n",
    "credit_limit_float = credit_limit.astype(float)\n",
    "\n",
    "#find the minimum and maximum value in the credit score\n",
    "max_credit = np.max(credit_limit_float)\n",
    "min_credit = np.min(credit_limit_float)\n",
    "print('Customer credit limit ranges from $',min_credit,'to $',max_credit)"
   ]
  },
  {
   "cell_type": "markdown",
   "id": "d18288d4",
   "metadata": {},
   "source": [
    "## Next cell helps us identify the total credit bank offers across all customers. <br> To find percent of customers with less than revolving balance, we look through the average revolving balance across the customers."
   ]
  },
  {
   "cell_type": "code",
   "execution_count": 5,
   "id": "50c40c90",
   "metadata": {},
   "outputs": [
    {
     "name": "stdout",
     "output_type": "stream",
     "text": [
      "Total credit offered by the bank across all customers is $ 75639977.1\n",
      "About 44.65 % customers have less than average revolving balance.\n"
     ]
    }
   ],
   "source": [
    "#make a list of customer's total revolving balance\n",
    "revolving_bal = spreadsheet[:, 14]\n",
    "#convert NumPy array of string values to float values\n",
    "revolving_bal_float = revolving_bal.astype(float)\n",
    "\n",
    "total_customers = 10127\n",
    "\n",
    "#convert total revolving balance to float \n",
    "total_revolving_bal = revolving_bal_float.sum()\n",
    "\n",
    "#sum of credit available across all customers\n",
    "print(f'Total credit offered by the bank across all customers is $',credit_limit_float.sum()-total_revolving_bal)\n",
    "\n",
    "#for calculating average revolving balance\n",
    "avg_revolving_bal = total_revolving_bal/total_customers \n",
    "\n",
    "#to count number of customers with < avg revolving balance\n",
    "less_rev_bal_customers = np.count_nonzero(revolving_bal_float < avg_revolving_bal)\n",
    "\n",
    "#calculate percent of customers with less than average revolving balance\n",
    "percent_less_rev = (less_rev_bal_customers / total_customers) * 100\n",
    "print('About',round(percent_less_rev, 2),'% customers have less than average revolving balance.')"
   ]
  },
  {
   "cell_type": "markdown",
   "id": "62d52015",
   "metadata": {},
   "source": [
    "## If more than 10% of customers have credit limit above $30,000 , the bank would require a credit card insurance. Next cell helps us identify if it is required or not."
   ]
  },
  {
   "cell_type": "code",
   "execution_count": 6,
   "id": "f828c653",
   "metadata": {},
   "outputs": [
    {
     "name": "stdout",
     "output_type": "stream",
     "text": [
      "No, the bank does not need to worry as only about 6.59 % have a credit limit above $ 30000.\n"
     ]
    }
   ],
   "source": [
    "high_credit_customers = np.count_nonzero(credit_limit_float > 30000, axis=0)\n",
    "high_credit_percent = (high_credit_customers/total_customers)*100\n",
    "if (high_credit_percent) < 10:\n",
    "    print (\"No, the bank does not need to worry as only about\", round(high_credit_percent, 2), \"% have a credit limit above $ 30000.\")\n",
    "else:\n",
    "    print (\"Yes they have to worry about credit card insurance as\", high_credit_percent, \"% have a credit limit above $ 30000.\")"
   ]
  },
  {
   "cell_type": "markdown",
   "id": "1fdb2c33",
   "metadata": {},
   "source": [
    "## To check if there is any relation between the customer's education levels and their relationship with the bank, we draw required data from the dataset. The cell below helps us visualise the relationship with the help of frequency table and graphs"
   ]
  },
  {
   "cell_type": "code",
   "execution_count": 7,
   "id": "60b25806",
   "metadata": {},
   "outputs": [
    {
     "name": "stdout",
     "output_type": "stream",
     "text": [
      "Education level frequency count of customers:\n",
      "[['College' 'Doctorate' 'Graduate' 'High School' 'Post-Graduate'\n",
      "  'Uneducated' 'Unknown']\n",
      " ['1013' '451' '3128' '2013' '516' '1487' '1519']]\n",
      "\n",
      " Education level frequency percent of customers:\n",
      "['College' 'Doctorate' 'Graduate' 'High School' 'Post-Graduate'\n",
      " 'Uneducated' 'Unknown'] [10.00296238  4.4534413  30.88772588 19.87755505  5.09528982 14.6835193\n",
      " 14.99950627]\n"
     ]
    },
    {
     "data": {
      "image/png": "[encoded data removed]",
      "text/plain": [
       "<Figure size 720x360 with 1 Axes>"
      ]
     },
     "metadata": {
      "needs_background": "light"
     },
     "output_type": "display_data"
    }
   ],
   "source": [
    "#extract a list for customer education levels\n",
    "customer_education_level = spreadsheet[:, 5]\n",
    "\n",
    "#count the number of times each unique value appears in the set\n",
    "unique_education, count_education = np.unique(customer_education_level, return_counts=True)\n",
    "\n",
    "#print the count of unique values\n",
    "print(\"Education level frequency count of customers:\")\n",
    "education_level_list = np.asarray((unique_education, count_education))\n",
    "print(education_level_list)\n",
    "\n",
    "education_level_float = education_level_list[1, :].astype(float)\n",
    "for i in education_level_float:\n",
    "    education_level_percent = (education_level_float/total_customers)*100\n",
    "print ('\\n Education level frequency percent of customers:')\n",
    "print (education_level_list[0, :], education_level_percent)\n",
    "\n",
    "#create bar plot with education level on the x-axis and the percent of customers with the value on the y-axis\n",
    "fig = plt.figure(figsize = (10, 5))\n",
    " \n",
    "# creating the bar plot\n",
    "plt.bar(education_level_list[0 , :], education_level_percent, color ='darkmagenta',\n",
    "        width = 0.4)\n",
    " \n",
    "plt.xlabel(\"Levels of education\")\n",
    "plt.ylabel(\"Percentage of customers with the education level\")\n",
    "plt.title(\"Level of education across customers\")\n",
    "plt.show()"
   ]
  },
  {
   "cell_type": "markdown",
   "id": "01f02eaf",
   "metadata": {},
   "source": [
    "##### From the graph we can observe <br>\n",
    "Most customers have graduate level education\n",
    "\n",
    "##### From the graph we can infer <br>\n",
    "Most customers have atleast high school levels of education, with over 50% customers having atleast college level education. <br><br>\n",
    "But 15% of customers are uneducated while 10% have post-graduate + doctorate degree. There is a lack of discrepency in the data. We don't know education levels of 15% of the customers either. <br> <br>\n",
    "Hence we can only infer with 100% confidence that the customers' education levels can not be used to predict if they would like to open an account with the bank or not. "
   ]
  },
  {
   "cell_type": "markdown",
   "id": "db79b3ca",
   "metadata": {},
   "source": [
    "## To identify if the management has a perception of gender inequities in the customer base, we look through credit limit data, sorted by gender. "
   ]
  },
  {
   "cell_type": "code",
   "execution_count": 8,
   "id": "68108e15",
   "metadata": {},
   "outputs": [
    {
     "name": "stdout",
     "output_type": "stream",
     "text": [
      "Average female credit = 5023.85\n",
      "Average male credit = 12685.67\n"
     ]
    }
   ],
   "source": [
    "gender_list = spreadsheet[:, 3].tolist()\n",
    "\n",
    "#list with indices of occurance of 'F' gender in the list\n",
    "indices_female = []\n",
    "for idx, value in enumerate(gender_list):\n",
    "    if value == 'F':\n",
    "        indices_female.append(idx)\n",
    "#print(find_indices(gender_list, 1))\n",
    "\n",
    "#list with indices of occurance of 'M' gender in the list\n",
    "indices_male = []\n",
    "for idx, value in enumerate(gender_list):\n",
    "    if value == 'M':\n",
    "        indices_male.append(idx)\n",
    "\n",
    "female_credit = [credit_limit_float[i] for i in indices_female]\n",
    "male_credit = [credit_limit_float[i] for i in indices_male]\n",
    "\n",
    "# function to find average female credit\n",
    "def Average(female_credit):\n",
    "    return sum(female_credit)/len(indices_female)\n",
    "\n",
    "average_female_credit = Average(female_credit)\n",
    "\n",
    "# function to find average male credit\n",
    "def Average(male_credit):\n",
    "    return sum(male_credit)/len(indices_male)\n",
    "\n",
    "average_male_credit = Average(male_credit)\n",
    " \n",
    "\n",
    "# Printing average of female and male credit\n",
    "print(\"Average female credit =\", round(average_female_credit, 2))\n",
    "print(\"Average male credit =\", round(average_male_credit, 2))"
   ]
  },
  {
   "cell_type": "markdown",
   "id": "9cb5b66f",
   "metadata": {},
   "source": [
    "**As we can see, the average female has a credit score only 40% of that of an average male. We infer that the management may be correct about the gender inequality in its customer base.**"
   ]
  },
  {
   "cell_type": "markdown",
   "id": "0cc7c728",
   "metadata": {},
   "source": [
    "## The bank believes that customers that utilize less than 20% or more than 80% of their credit limit may post a risk to the bank's operations. The next cell helps us analyse the percent of customers that fall into this 'risk credit utlization' category. "
   ]
  },
  {
   "cell_type": "code",
   "execution_count": 9,
   "id": "1e7dc136",
   "metadata": {},
   "outputs": [
    {
     "name": "stdout",
     "output_type": "stream",
     "text": [
      "About 57.28 % customers utilize their credit less than 20% or greater than 80%.\n"
     ]
    }
   ],
   "source": [
    "#float list of avg customer utilization ratio\n",
    "avg_utilization=spreadsheet[:, 19]\n",
    "avg_utilization_float = avg_utilization.astype(float)\n",
    "\n",
    "#count number of risk customers with utilization < 20% or >80%\n",
    "risk_utilization_customer_count = 0\n",
    "for i in avg_utilization_float:\n",
    "    if i < 0.2 or i>0.8:\n",
    "        risk_utilization_customer_count += 1\n",
    "        \n",
    "#percent of risk utilization customers\n",
    "risk_utilization_customer_percent = (risk_utilization_customer_count / total_customers) * 100\n",
    "print ('About', round(risk_utilization_customer_percent, 2), '% customers utilize their credit less than 20% or greater than 80%.')"
   ]
  },
  {
   "cell_type": "markdown",
   "id": "2987529e",
   "metadata": {},
   "source": [
    "The bank may feel that the customers that use **less than 20%** of their credit limit are a risk because they are essentially 'non-performing' customers. They may not help them bring in profits.\n",
    "\n",
    "Meanwhile, customers that use **more than 80%** of their credit limit may seem like a risk because they can default in their payments. Extracting money back from these customers can be an added task to the bank.\n",
    "\n",
    "From the data, we can tell about 60% of the bank's customers fall into their category. **The bank needs to draw more customers that utilise between 20% and 80% of credit limit** to keep their operations flowing smoothly."
   ]
  },
  {
   "cell_type": "markdown",
   "id": "73bc5476",
   "metadata": {},
   "source": [
    "## To identify which income range management should target, we try to identify what income category most of their customer base falls in. "
   ]
  },
  {
   "cell_type": "code",
   "execution_count": 10,
   "id": "aa7401fd",
   "metadata": {},
   "outputs": [
    {
     "data": {
      "image/png": "[encoded data removed]",
      "text/plain": [
       "<Figure size 720x360 with 1 Axes>"
      ]
     },
     "metadata": {
      "needs_background": "light"
     },
     "output_type": "display_data"
    }
   ],
   "source": [
    "#create a list for customer education levels\n",
    "income_level = spreadsheet[:, 7]\n",
    "\n",
    "#count the number of customers in each unique income category\n",
    "unique_income, count_income = np.unique(income_level, return_counts=True)\n",
    "\n",
    "#to calculate % of customers with each unique income category\n",
    "income_level_list = np.asarray((unique_income, count_income))\n",
    "income_level_float = income_level_list[1, :].astype(float)\n",
    "for i in income_level_float:\n",
    "    income_level_percent = (income_level_float/total_customers)*100\n",
    "\n",
    "#create bar plot to see percentage of customers in each income category\n",
    "fig = plt.figure(figsize = (10, 5))\n",
    " \n",
    "# creating the bar plot\n",
    "plt.bar(income_level_list[0 , :], income_level_percent, color ='deepskyblue',\n",
    "        width = 0.4)\n",
    " \n",
    "plt.xlabel(\"Levels of income\")\n",
    "plt.ylabel(\"Percentage of customers with the income level\")\n",
    "plt.title(\"Level of income across customers\")\n",
    "plt.show()"
   ]
  },
  {
   "cell_type": "markdown",
   "id": "14dbcde6",
   "metadata": {},
   "source": [
    "##### From the graph, we can infer: \n",
    "**Most of the bank customers earn less than $40K per year. Hence this is the category management should target in their advertisement campaigns**"
   ]
  },
  {
   "cell_type": "markdown",
   "id": "5de4b20d",
   "metadata": {},
   "source": [
    "## Additionally, we can look into data to identify how long most customers have had a relationship with the bank for. This can help us analyse if there is a pattern to the bank getting new customers. "
   ]
  },
  {
   "cell_type": "code",
   "execution_count": 11,
   "id": "6d4e5b73",
   "metadata": {},
   "outputs": [
    {
     "data": {
      "image/png": "[encoded data removed]",
      "text/plain": [
       "<Figure size 1440x360 with 1 Axes>"
      ]
     },
     "metadata": {
      "needs_background": "light"
     },
     "output_type": "display_data"
    }
   ],
   "source": [
    "#extract a list for customer months on book\n",
    "months_on_book = spreadsheet[:, 9]\n",
    "months_on_book = spreadsheet[:, 9].astype(float)\n",
    "\n",
    "#count the number of times each month on book value appears in the set\n",
    "unique_months, count_months = np.unique(months_on_book, return_counts=True)\n",
    "\n",
    "#print the count of unique values\n",
    "months_list = np.asarray((unique_months, count_months))\n",
    "\n",
    "months_on_book_float = months_list[1, :].astype(float)\n",
    "for i in months_on_book_float:\n",
    "    months_on_book_percent = (months_on_book_float/total_customers)*100\n",
    "\n",
    "fig = plt.figure(figsize = (20, 5))\n",
    " \n",
    "# creating the bar plot\n",
    "plt.bar(months_list[0 , :], months_on_book_percent, color ='orangered',\n",
    "        width = 0.8)\n",
    " \n",
    "plt.xlabel(\"Months on book\")\n",
    "plt.ylabel(\"Percentage of customers with the months\")\n",
    "plt.title(\"Y percent of customers with X months on the book\")\n",
    "plt.show()"
   ]
  },
  {
   "cell_type": "markdown",
   "id": "ae052659",
   "metadata": {},
   "source": [
    "##### From the graph, we can infer:\n",
    "\n",
    "- Most customers have been on the book since 36 months. \n",
    "- Further data from that time can be used to identify the potential reasons why the bank attracted most customers during that time period. The bank can replicate the strategy to potentally attract more customers.\n"
   ]
  }
 ],
 "metadata": {
  "kernelspec": {
   "display_name": "Python 3 (ipykernel)",
   "language": "python",
   "name": "python3"
  },
  "language_info": {
   "codemirror_mode": {
    "name": "ipython",
    "version": 3
   },
   "file_extension": ".py",
   "mimetype": "text/x-python",
   "name": "python",
   "nbconvert_exporter": "python",
   "pygments_lexer": "ipython3",
   "version": "3.9.12"
  }
 },
 "nbformat": 4,
 "nbformat_minor": 5
}
